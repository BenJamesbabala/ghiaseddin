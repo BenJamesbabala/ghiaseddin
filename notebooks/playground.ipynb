{
 "cells": [
  {
   "cell_type": "code",
   "execution_count": 1,
   "metadata": {
    "collapsed": false
   },
   "outputs": [
    {
     "name": "stderr",
     "output_type": "stream",
     "text": [
      "Using gpu device 0: GeForce GTX TITAN Black (CNMeM is disabled, CuDNN 4007)\n"
     ]
    }
   ],
   "source": [
    "import sys\n",
    "sys.path.append('../')\n",
    "import ghiaseddin\n",
    "\n",
    "import numpy as np\n",
    "import lasagne\n",
    "\n",
    "%matplotlib inline\n",
    "\n",
    "import matplotlib\n",
    "import matplotlib.pylab as plt"
   ]
  },
  {
   "cell_type": "code",
   "execution_count": 2,
   "metadata": {
    "collapsed": false
   },
   "outputs": [],
   "source": [
    "zappos1 = ghiaseddin.Zappos50K1(ghiaseddin.settings.zappos_root, attribute_index=0, split_index=0)"
   ]
  },
  {
   "cell_type": "code",
   "execution_count": 3,
   "metadata": {
    "collapsed": false
   },
   "outputs": [],
   "source": [
    "googlenet = ghiaseddin.GoogLeNet(ghiaseddin.settings.googlenet_weights)"
   ]
  },
  {
   "cell_type": "code",
   "execution_count": 4,
   "metadata": {
    "collapsed": false
   },
   "outputs": [],
   "source": [
    "model = ghiaseddin.Ghiaseddin(extractor=googlenet, dataset=zappos1, weight_decay=1e-5)"
   ]
  },
  {
   "cell_type": "code",
   "execution_count": 5,
   "metadata": {
    "collapsed": true
   },
   "outputs": [],
   "source": [
    "add_step = 0\n",
    "losses = []"
   ]
  },
  {
   "cell_type": "code",
   "execution_count": null,
   "metadata": {
    "collapsed": true
   },
   "outputs": [],
   "source": []
  },
  {
   "cell_type": "code",
   "execution_count": 6,
   "metadata": {
    "collapsed": false
   },
   "outputs": [
    {
     "name": "stderr",
     "output_type": "stream",
     "text": [
      "INFO:Ghiaseddin:1 minibatch took: 0:00:01.215396\n",
      "INFO:Ghiaseddin:1 minibatch took: 0:00:01.169940\n",
      "INFO:Ghiaseddin:1 minibatch took: 0:00:01.182677\n",
      "INFO:Ghiaseddin:1 minibatch took: 0:00:01.165129\n",
      "INFO:Ghiaseddin:1 minibatch took: 0:00:01.182999\n",
      "INFO:Ghiaseddin:1 minibatch took: 0:00:01.177129\n",
      "INFO:Ghiaseddin:1 minibatch took: 0:00:01.168928\n",
      "INFO:Ghiaseddin:1 minibatch took: 0:00:01.219848\n",
      "INFO:Ghiaseddin:1 minibatch took: 0:00:01.202448\n",
      "INFO:Ghiaseddin:1 minibatch took: 0:00:01.159474\n",
      "INFO:Ghiaseddin:1 minibatch took: 0:00:01.164433\n",
      "INFO:Ghiaseddin:1 minibatch took: 0:00:01.170988\n",
      "INFO:Ghiaseddin:1 minibatch took: 0:00:01.240478\n",
      "INFO:Ghiaseddin:1 minibatch took: 0:00:01.168885\n",
      "INFO:Ghiaseddin:1 minibatch took: 0:00:01.155746\n",
      "INFO:Ghiaseddin:1 minibatch took: 0:00:01.156662\n",
      "INFO:Ghiaseddin:1 minibatch took: 0:00:01.164734\n",
      "INFO:Ghiaseddin:1 minibatch took: 0:00:01.163644\n",
      "INFO:Ghiaseddin:1 minibatch took: 0:00:01.179259\n",
      "INFO:Ghiaseddin:1 minibatch took: 0:00:01.182814\n",
      "INFO:Ghiaseddin:1 minibatch took: 0:00:01.150486\n",
      "INFO:Ghiaseddin:1 minibatch took: 0:00:01.181509\n",
      "INFO:Ghiaseddin:1 minibatch took: 0:00:01.180407\n",
      "INFO:Ghiaseddin:1 minibatch took: 0:00:01.174579\n",
      "INFO:Ghiaseddin:1 minibatch took: 0:00:01.170113\n",
      "INFO:Ghiaseddin:1 minibatch took: 0:00:01.175396\n",
      "INFO:Ghiaseddin:1 minibatch took: 0:00:01.168931\n",
      "INFO:Ghiaseddin:1 minibatch took: 0:00:01.176998\n",
      "INFO:Ghiaseddin:1 minibatch took: 0:00:01.154615\n",
      "INFO:Ghiaseddin:1 minibatch took: 0:00:01.174868\n",
      "INFO:Ghiaseddin:1 minibatch took: 0:00:01.169032\n",
      "INFO:Ghiaseddin:1 minibatch took: 0:00:01.164323\n",
      "INFO:Ghiaseddin:1 minibatch took: 0:00:01.144139\n",
      "INFO:Ghiaseddin:1 minibatch took: 0:00:01.149015\n",
      "INFO:Ghiaseddin:1 minibatch took: 0:00:01.170262\n",
      "INFO:Ghiaseddin:1 minibatch took: 0:00:01.160540\n",
      "INFO:Ghiaseddin:1 minibatch took: 0:00:01.162195\n",
      "INFO:Ghiaseddin:1 minibatch took: 0:00:01.196786\n",
      "INFO:Ghiaseddin:1 minibatch took: 0:00:01.155781\n",
      "INFO:Ghiaseddin:1 minibatch took: 0:00:01.145441\n",
      "INFO:Ghiaseddin:1 minibatch took: 0:00:01.168638\n",
      "INFO:Ghiaseddin:1 minibatch took: 0:00:01.159847\n",
      "INFO:Ghiaseddin:1 minibatch took: 0:00:01.174526\n",
      "INFO:Ghiaseddin:1 minibatch took: 0:00:01.192122\n",
      "INFO:Ghiaseddin:1 minibatch took: 0:00:01.175321\n",
      "INFO:Ghiaseddin:1 minibatch took: 0:00:01.180136\n",
      "INFO:Ghiaseddin:1 minibatch took: 0:00:01.162068\n",
      "INFO:Ghiaseddin:1 minibatch took: 0:00:01.165396\n",
      "INFO:Ghiaseddin:1 minibatch took: 0:00:01.161555\n",
      "INFO:Ghiaseddin:1 minibatch took: 0:00:01.160516\n",
      "INFO:Ghiaseddin:1 minibatch took: 0:00:01.162564\n",
      "INFO:Ghiaseddin:1 minibatch took: 0:00:01.143403\n",
      "INFO:Ghiaseddin:1 minibatch took: 0:00:01.151988\n",
      "INFO:Ghiaseddin:1 minibatch took: 0:00:01.158837\n",
      "INFO:Ghiaseddin:1 minibatch took: 0:00:01.176845\n",
      "INFO:Ghiaseddin:1 minibatch took: 0:00:01.141282\n",
      "INFO:Ghiaseddin:1 minibatch took: 0:00:01.150573\n",
      "INFO:Ghiaseddin:1 minibatch took: 0:00:01.148322\n",
      "INFO:Ghiaseddin:1 minibatch took: 0:00:01.167996\n",
      "INFO:Ghiaseddin:1 minibatch took: 0:00:01.180082\n",
      "INFO:Ghiaseddin:1 minibatch took: 0:00:01.181447\n",
      "INFO:Ghiaseddin:1 minibatch took: 0:00:01.170145\n",
      "INFO:Ghiaseddin:1 minibatch took: 0:00:01.177680\n",
      "INFO:Ghiaseddin:1 minibatch took: 0:00:01.169788\n",
      "INFO:Ghiaseddin:1 minibatch took: 0:00:01.188085\n",
      "INFO:Ghiaseddin:1 minibatch took: 0:00:01.166502\n",
      "INFO:Ghiaseddin:1 minibatch took: 0:00:01.152092\n",
      "INFO:Ghiaseddin:1 minibatch took: 0:00:01.153075\n",
      "INFO:Ghiaseddin:1 minibatch took: 0:00:01.154970\n",
      "INFO:Ghiaseddin:1 minibatch took: 0:00:01.162415\n",
      "INFO:Ghiaseddin:1 minibatch took: 0:00:01.168437\n",
      "INFO:Ghiaseddin:1 minibatch took: 0:00:01.160997\n",
      "INFO:Ghiaseddin:1 minibatch took: 0:00:01.150544\n",
      "INFO:Ghiaseddin:1 minibatch took: 0:00:01.133625\n",
      "INFO:Ghiaseddin:1 minibatch took: 0:00:01.146238\n",
      "INFO:Ghiaseddin:1 minibatch took: 0:00:01.144550\n",
      "INFO:Ghiaseddin:1 minibatch took: 0:00:01.138806\n",
      "INFO:Ghiaseddin:1 minibatch took: 0:00:01.196774\n",
      "INFO:Ghiaseddin:1 minibatch took: 0:00:01.171563\n",
      "INFO:Ghiaseddin:1 minibatch took: 0:00:01.159690\n",
      "INFO:Ghiaseddin:1 minibatch took: 0:00:01.170923\n",
      "INFO:Ghiaseddin:1 minibatch took: 0:00:01.187110\n",
      "INFO:Ghiaseddin:1 minibatch took: 0:00:01.164632\n",
      "INFO:Ghiaseddin:1 minibatch took: 0:00:01.178958\n",
      "INFO:Ghiaseddin:1 minibatch took: 0:00:01.169026\n",
      "INFO:Ghiaseddin:1 minibatch took: 0:00:01.168288\n",
      "INFO:Ghiaseddin:1 minibatch took: 0:00:01.174392\n",
      "INFO:Ghiaseddin:1 minibatch took: 0:00:01.159183\n",
      "INFO:Ghiaseddin:1 minibatch took: 0:00:01.155036\n",
      "INFO:Ghiaseddin:1 minibatch took: 0:00:01.144225\n",
      "INFO:Ghiaseddin:1 minibatch took: 0:00:01.158210\n",
      "DEBUG:Ghiaseddin:training for 1 epoch took: 0:02:03.143463\n"
     ]
    }
   ],
   "source": [
    "add_step += len(losses)\n",
    "losses = model.train_one_epoch(add_step)"
   ]
  },
  {
   "cell_type": "code",
   "execution_count": null,
   "metadata": {
    "collapsed": true
   },
   "outputs": [],
   "source": []
  },
  {
   "cell_type": "code",
   "execution_count": null,
   "metadata": {
    "collapsed": true
   },
   "outputs": [],
   "source": []
  },
  {
   "cell_type": "code",
   "execution_count": 8,
   "metadata": {
    "collapsed": false
   },
   "outputs": [],
   "source": [
    "for i in range(2):\n",
    "    add_step += len(losses)\n",
    "    losses = model.train_one_epoch(add_step)"
   ]
  },
  {
   "cell_type": "code",
   "execution_count": null,
   "metadata": {
    "collapsed": true
   },
   "outputs": [],
   "source": []
  },
  {
   "cell_type": "code",
   "execution_count": null,
   "metadata": {
    "collapsed": true
   },
   "outputs": [],
   "source": []
  },
  {
   "cell_type": "code",
   "execution_count": null,
   "metadata": {
    "collapsed": true
   },
   "outputs": [],
   "source": []
  },
  {
   "cell_type": "code",
   "execution_count": 7,
   "metadata": {
    "collapsed": false
   },
   "outputs": [
    {
     "data": {
      "text/plain": [
       "0.92"
      ]
     },
     "execution_count": 7,
     "metadata": {},
     "output_type": "execute_result"
    }
   ],
   "source": [
    "model.eval_accuracy()"
   ]
  },
  {
   "cell_type": "code",
   "execution_count": 8,
   "metadata": {
    "collapsed": false
   },
   "outputs": [
    {
     "data": {
      "text/plain": [
       "0.9633333333333334"
      ]
     },
     "execution_count": 8,
     "metadata": {},
     "output_type": "execute_result"
    }
   ],
   "source": [
    "model.eval_accuracy()"
   ]
  },
  {
   "cell_type": "code",
   "execution_count": 7,
   "metadata": {
    "collapsed": false
   },
   "outputs": [
    {
     "name": "stderr",
     "output_type": "stream",
     "text": [
      "DEBUG:Ghiaseddin:evaluation took: 0:00:09.856968\n"
     ]
    },
    {
     "data": {
      "text/plain": [
       "0.9533333333333334"
      ]
     },
     "execution_count": 7,
     "metadata": {},
     "output_type": "execute_result"
    }
   ],
   "source": [
    "model.eval_accuracy()"
   ]
  },
  {
   "cell_type": "code",
   "execution_count": null,
   "metadata": {
    "collapsed": true
   },
   "outputs": [],
   "source": []
  }
 ],
 "metadata": {
  "kernelspec": {
   "display_name": "Python 2",
   "language": "python",
   "name": "python2"
  },
  "language_info": {
   "codemirror_mode": {
    "name": "ipython",
    "version": 2
   },
   "file_extension": ".py",
   "mimetype": "text/x-python",
   "name": "python",
   "nbconvert_exporter": "python",
   "pygments_lexer": "ipython2",
   "version": "2.7.6"
  }
 },
 "nbformat": 4,
 "nbformat_minor": 0
}
