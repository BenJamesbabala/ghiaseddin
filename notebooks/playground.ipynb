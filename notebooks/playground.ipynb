{
 "cells": [
  {
   "cell_type": "code",
   "execution_count": 2,
   "metadata": {
    "collapsed": false
   },
   "outputs": [
    {
     "name": "stderr",
     "output_type": "stream",
     "text": [
      "Using gpu device 0: GeForce GTX TITAN Black (CNMeM is disabled, CuDNN 4007)\n"
     ]
    }
   ],
   "source": [
    "import sys\n",
    "sys.path.append('../')\n",
    "import ghiaseddin\n",
    "\n",
    "import numpy as np\n",
    "import lasagne\n",
    "\n",
    "%matplotlib inline\n",
    "\n",
    "import matplotlib\n",
    "import matplotlib.pylab as plt"
   ]
  },
  {
   "cell_type": "code",
   "execution_count": 3,
   "metadata": {
    "collapsed": false
   },
   "outputs": [],
   "source": [
    "zappos1 = ghiaseddin.Zappos50K1(ghiaseddin.settings.zappos_root, attribute_index=0, split_index=0)"
   ]
  },
  {
   "cell_type": "code",
   "execution_count": 4,
   "metadata": {
    "collapsed": false
   },
   "outputs": [],
   "source": [
    "googlenet = ghiaseddin.GoogLeNet(ghiaseddin.settings.googlenet_weights)"
   ]
  },
  {
   "cell_type": "code",
   "execution_count": 5,
   "metadata": {
    "collapsed": false
   },
   "outputs": [],
   "source": [
    "model = ghiaseddin.Ghiaseddin(extractor=googlenet, dataset=zappos1, weight_decay=1e-5, optimizer=lasagne.updates.nesterov_momentum, ranker_learning_rate=1e-3, extractor_learning_rate=1e-4)"
   ]
  },
  {
   "cell_type": "code",
   "execution_count": 6,
   "metadata": {
    "collapsed": true
   },
   "outputs": [],
   "source": [
    "add_step = 0\n",
    "losses = []"
   ]
  },
  {
   "cell_type": "code",
   "execution_count": 7,
   "metadata": {
    "collapsed": false,
    "scrolled": true
   },
   "outputs": [
    {
     "name": "stderr",
     "output_type": "stream",
     "text": [
      "DEBUG:Ghiaseddin:1 minibatch took: 0:00:01.213909\n",
      "DEBUG:Ghiaseddin:1 minibatch took: 0:00:01.164632\n",
      "DEBUG:Ghiaseddin:1 minibatch took: 0:00:01.158499\n",
      "DEBUG:Ghiaseddin:1 minibatch took: 0:00:01.161379\n",
      "DEBUG:Ghiaseddin:1 minibatch took: 0:00:01.145894\n",
      "DEBUG:Ghiaseddin:1 minibatch took: 0:00:01.154881\n",
      "DEBUG:Ghiaseddin:1 minibatch took: 0:00:01.157158\n",
      "DEBUG:Ghiaseddin:1 minibatch took: 0:00:01.136215\n",
      "DEBUG:Ghiaseddin:1 minibatch took: 0:00:01.142032\n",
      "DEBUG:Ghiaseddin:1 minibatch took: 0:00:01.154966\n",
      "DEBUG:Ghiaseddin:1 minibatch took: 0:00:01.176107\n",
      "DEBUG:Ghiaseddin:1 minibatch took: 0:00:01.134114\n",
      "DEBUG:Ghiaseddin:1 minibatch took: 0:00:01.133160\n",
      "DEBUG:Ghiaseddin:1 minibatch took: 0:00:01.131352\n",
      "DEBUG:Ghiaseddin:1 minibatch took: 0:00:01.133706\n",
      "DEBUG:Ghiaseddin:1 minibatch took: 0:00:01.132504\n",
      "DEBUG:Ghiaseddin:1 minibatch took: 0:00:01.130453\n",
      "DEBUG:Ghiaseddin:1 minibatch took: 0:00:01.129156\n",
      "DEBUG:Ghiaseddin:1 minibatch took: 0:00:01.135470\n",
      "DEBUG:Ghiaseddin:1 minibatch took: 0:00:01.118313\n",
      "DEBUG:Ghiaseddin:1 minibatch took: 0:00:01.119007\n",
      "DEBUG:Ghiaseddin:1 minibatch took: 0:00:01.126625\n",
      "DEBUG:Ghiaseddin:1 minibatch took: 0:00:01.123267\n",
      "DEBUG:Ghiaseddin:1 minibatch took: 0:00:01.135113\n",
      "DEBUG:Ghiaseddin:1 minibatch took: 0:00:01.156585\n",
      "DEBUG:Ghiaseddin:1 minibatch took: 0:00:01.154949\n",
      "DEBUG:Ghiaseddin:1 minibatch took: 0:00:01.141608\n",
      "DEBUG:Ghiaseddin:1 minibatch took: 0:00:01.173187\n",
      "DEBUG:Ghiaseddin:1 minibatch took: 0:00:01.164185\n",
      "DEBUG:Ghiaseddin:1 minibatch took: 0:00:01.155122\n",
      "DEBUG:Ghiaseddin:1 minibatch took: 0:00:01.146527\n",
      "DEBUG:Ghiaseddin:1 minibatch took: 0:00:01.169725\n",
      "DEBUG:Ghiaseddin:1 minibatch took: 0:00:01.167091\n",
      "DEBUG:Ghiaseddin:1 minibatch took: 0:00:01.121175\n",
      "DEBUG:Ghiaseddin:1 minibatch took: 0:00:01.122780\n",
      "DEBUG:Ghiaseddin:1 minibatch took: 0:00:01.158176\n",
      "DEBUG:Ghiaseddin:1 minibatch took: 0:00:01.131824\n",
      "DEBUG:Ghiaseddin:1 minibatch took: 0:00:01.131638\n",
      "DEBUG:Ghiaseddin:1 minibatch took: 0:00:01.134451\n",
      "DEBUG:Ghiaseddin:1 minibatch took: 0:00:01.133491\n",
      "DEBUG:Ghiaseddin:1 minibatch took: 0:00:01.129892\n",
      "DEBUG:Ghiaseddin:1 minibatch took: 0:00:01.135144\n",
      "DEBUG:Ghiaseddin:1 minibatch took: 0:00:01.136767\n",
      "DEBUG:Ghiaseddin:1 minibatch took: 0:00:01.130561\n",
      "DEBUG:Ghiaseddin:1 minibatch took: 0:00:01.161719\n",
      "DEBUG:Ghiaseddin:1 minibatch took: 0:00:01.162987\n",
      "DEBUG:Ghiaseddin:1 minibatch took: 0:00:01.138178\n",
      "DEBUG:Ghiaseddin:1 minibatch took: 0:00:01.171760\n",
      "DEBUG:Ghiaseddin:1 minibatch took: 0:00:01.148838\n",
      "DEBUG:Ghiaseddin:1 minibatch took: 0:00:01.139325\n",
      "DEBUG:Ghiaseddin:1 minibatch took: 0:00:01.141817\n",
      "DEBUG:Ghiaseddin:1 minibatch took: 0:00:01.160647\n",
      "DEBUG:Ghiaseddin:1 minibatch took: 0:00:01.154850\n",
      "DEBUG:Ghiaseddin:1 minibatch took: 0:00:01.164082\n",
      "DEBUG:Ghiaseddin:1 minibatch took: 0:00:01.167073\n",
      "DEBUG:Ghiaseddin:1 minibatch took: 0:00:01.163026\n",
      "DEBUG:Ghiaseddin:1 minibatch took: 0:00:01.156575\n",
      "DEBUG:Ghiaseddin:1 minibatch took: 0:00:01.163295\n",
      "DEBUG:Ghiaseddin:1 minibatch took: 0:00:01.160634\n",
      "DEBUG:Ghiaseddin:1 minibatch took: 0:00:01.192296\n",
      "DEBUG:Ghiaseddin:1 minibatch took: 0:00:01.178790\n",
      "DEBUG:Ghiaseddin:1 minibatch took: 0:00:01.150392\n",
      "DEBUG:Ghiaseddin:1 minibatch took: 0:00:01.149801\n",
      "DEBUG:Ghiaseddin:1 minibatch took: 0:00:01.157666\n",
      "DEBUG:Ghiaseddin:1 minibatch took: 0:00:01.172608\n",
      "DEBUG:Ghiaseddin:1 minibatch took: 0:00:01.145330\n",
      "DEBUG:Ghiaseddin:1 minibatch took: 0:00:01.130540\n",
      "DEBUG:Ghiaseddin:1 minibatch took: 0:00:01.151366\n",
      "DEBUG:Ghiaseddin:1 minibatch took: 0:00:01.143122\n",
      "DEBUG:Ghiaseddin:1 minibatch took: 0:00:01.163509\n",
      "DEBUG:Ghiaseddin:1 minibatch took: 0:00:01.171620\n",
      "DEBUG:Ghiaseddin:1 minibatch took: 0:00:01.134692\n",
      "DEBUG:Ghiaseddin:1 minibatch took: 0:00:01.132931\n",
      "DEBUG:Ghiaseddin:1 minibatch took: 0:00:01.161105\n",
      "DEBUG:Ghiaseddin:1 minibatch took: 0:00:01.164579\n",
      "DEBUG:Ghiaseddin:1 minibatch took: 0:00:01.173709\n",
      "DEBUG:Ghiaseddin:1 minibatch took: 0:00:01.159147\n",
      "DEBUG:Ghiaseddin:1 minibatch took: 0:00:01.173018\n",
      "DEBUG:Ghiaseddin:1 minibatch took: 0:00:01.163875\n",
      "DEBUG:Ghiaseddin:1 minibatch took: 0:00:01.160235\n",
      "DEBUG:Ghiaseddin:1 minibatch took: 0:00:01.154301\n",
      "DEBUG:Ghiaseddin:1 minibatch took: 0:00:01.148727\n",
      "DEBUG:Ghiaseddin:1 minibatch took: 0:00:01.160879\n",
      "DEBUG:Ghiaseddin:1 minibatch took: 0:00:01.132867\n",
      "DEBUG:Ghiaseddin:1 minibatch took: 0:00:01.136010\n",
      "DEBUG:Ghiaseddin:1 minibatch took: 0:00:01.152970\n",
      "DEBUG:Ghiaseddin:1 minibatch took: 0:00:01.144313\n",
      "DEBUG:Ghiaseddin:1 minibatch took: 0:00:01.150600\n",
      "DEBUG:Ghiaseddin:1 minibatch took: 0:00:01.153551\n",
      "DEBUG:Ghiaseddin:1 minibatch took: 0:00:01.161134\n",
      "DEBUG:Ghiaseddin:1 minibatch took: 0:00:01.161288\n",
      "INFO:Ghiaseddin:Training for 1 epoch took: 0:02:01.436391\n"
     ]
    }
   ],
   "source": [
    "add_step += len(losses)\n",
    "losses = model.train_one_epoch(add_step)"
   ]
  },
  {
   "cell_type": "code",
   "execution_count": null,
   "metadata": {
    "collapsed": false
   },
   "outputs": [],
   "source": [
    "for i in range(2):\n",
    "    add_step += len(losses)\n",
    "    losses = model.train_one_epoch(add_step)"
   ]
  },
  {
   "cell_type": "code",
   "execution_count": 8,
   "metadata": {
    "collapsed": false
   },
   "outputs": [
    {
     "name": "stderr",
     "output_type": "stream",
     "text": [
      "INFO:Ghiaseddin:Evaluation took: 0:00:09.609443\n"
     ]
    },
    {
     "data": {
      "text/plain": [
       "0.94"
      ]
     },
     "execution_count": 8,
     "metadata": {},
     "output_type": "execute_result"
    }
   ],
   "source": [
    "model.eval_accuracy()"
   ]
  },
  {
   "cell_type": "code",
   "execution_count": null,
   "metadata": {
    "collapsed": true
   },
   "outputs": [],
   "source": []
  }
 ],
 "metadata": {
  "kernelspec": {
   "display_name": "Python 2",
   "language": "python",
   "name": "python2"
  },
  "language_info": {
   "codemirror_mode": {
    "name": "ipython",
    "version": 2
   },
   "file_extension": ".py",
   "mimetype": "text/x-python",
   "name": "python",
   "nbconvert_exporter": "python",
   "pygments_lexer": "ipython2",
   "version": "2.7.6"
  }
 },
 "nbformat": 4,
 "nbformat_minor": 0
}
