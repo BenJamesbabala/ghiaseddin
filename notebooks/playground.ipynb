{
 "cells": [
  {
   "cell_type": "code",
   "execution_count": 1,
   "metadata": {
    "collapsed": false
   },
   "outputs": [
    {
     "name": "stderr",
     "output_type": "stream",
     "text": [
      "Using gpu device 0: GeForce GTX TITAN Black (CNMeM is disabled, CuDNN 4007)\n"
     ]
    }
   ],
   "source": [
    "import sys\n",
    "sys.path.append('../')\n",
    "import ghiaseddin\n",
    "\n",
    "import numpy as np\n",
    "import lasagne\n",
    "\n",
    "%matplotlib inline\n",
    "\n",
    "import matplotlib\n",
    "import matplotlib.pylab as plt"
   ]
  },
  {
   "cell_type": "code",
   "execution_count": 2,
   "metadata": {
    "collapsed": false
   },
   "outputs": [],
   "source": [
    "zappos1 = ghiaseddin.Zappos50K1(ghiaseddin.settings.zappos_root, attribute_index=0, split_index=0)"
   ]
  },
  {
   "cell_type": "code",
   "execution_count": 3,
   "metadata": {
    "collapsed": false
   },
   "outputs": [],
   "source": [
    "googlenet = ghiaseddin.GoogLeNet(ghiaseddin.settings.googlenet_weights)"
   ]
  },
  {
   "cell_type": "code",
   "execution_count": 4,
   "metadata": {
    "collapsed": false
   },
   "outputs": [],
   "source": [
    "model = ghiaseddin.Ghiaseddin(extractor=googlenet,\n",
    "                              dataset=zappos1,\n",
    "                              weight_decay=1e-5,\n",
    "                              optimizer=lasagne.updates.rmsprop,\n",
    "                              ranker_learning_rate=1e-4,\n",
    "                              extractor_learning_rate=1e-5,\n",
    "                              RANDOM_SEED=1)"
   ]
  },
  {
   "cell_type": "code",
   "execution_count": 8,
   "metadata": {
    "collapsed": false,
    "scrolled": true
   },
   "outputs": [
    {
     "name": "stderr",
     "output_type": "stream",
     "text": [
      "DEBUG:Ghiaseddin:1 minibatch took: 0:00:01.213229\n",
      "DEBUG:Ghiaseddin:1 minibatch took: 0:00:01.180992\n",
      "DEBUG:Ghiaseddin:1 minibatch took: 0:00:01.161280\n",
      "DEBUG:Ghiaseddin:1 minibatch took: 0:00:01.181312\n",
      "DEBUG:Ghiaseddin:1 minibatch took: 0:00:01.168705\n",
      "DEBUG:Ghiaseddin:1 minibatch took: 0:00:01.204337\n",
      "DEBUG:Ghiaseddin:1 minibatch took: 0:00:01.160917\n",
      "DEBUG:Ghiaseddin:1 minibatch took: 0:00:01.174018\n",
      "DEBUG:Ghiaseddin:1 minibatch took: 0:00:01.152213\n",
      "DEBUG:Ghiaseddin:1 minibatch took: 0:00:01.167642\n",
      "DEBUG:Ghiaseddin:1 minibatch took: 0:00:01.155637\n",
      "DEBUG:Ghiaseddin:1 minibatch took: 0:00:01.147467\n",
      "DEBUG:Ghiaseddin:1 minibatch took: 0:00:01.147420\n",
      "DEBUG:Ghiaseddin:1 minibatch took: 0:00:01.152687\n",
      "DEBUG:Ghiaseddin:1 minibatch took: 0:00:01.176895\n",
      "DEBUG:Ghiaseddin:1 minibatch took: 0:00:01.144074\n",
      "DEBUG:Ghiaseddin:1 minibatch took: 0:00:01.131607\n",
      "DEBUG:Ghiaseddin:1 minibatch took: 0:00:01.150669\n",
      "DEBUG:Ghiaseddin:1 minibatch took: 0:00:01.141259\n",
      "DEBUG:Ghiaseddin:1 minibatch took: 0:00:01.152840\n",
      "DEBUG:Ghiaseddin:1 minibatch took: 0:00:01.156859\n",
      "DEBUG:Ghiaseddin:1 minibatch took: 0:00:01.148920\n",
      "DEBUG:Ghiaseddin:1 minibatch took: 0:00:01.155429\n",
      "DEBUG:Ghiaseddin:1 minibatch took: 0:00:01.153179\n",
      "DEBUG:Ghiaseddin:1 minibatch took: 0:00:01.154291\n",
      "DEBUG:Ghiaseddin:1 minibatch took: 0:00:01.156823\n",
      "DEBUG:Ghiaseddin:1 minibatch took: 0:00:01.167171\n",
      "DEBUG:Ghiaseddin:1 minibatch took: 0:00:01.164433\n",
      "DEBUG:Ghiaseddin:1 minibatch took: 0:00:01.134875\n",
      "DEBUG:Ghiaseddin:1 minibatch took: 0:00:01.168110\n",
      "DEBUG:Ghiaseddin:1 minibatch took: 0:00:01.149443\n",
      "DEBUG:Ghiaseddin:1 minibatch took: 0:00:01.147065\n",
      "DEBUG:Ghiaseddin:1 minibatch took: 0:00:01.147276\n",
      "DEBUG:Ghiaseddin:1 minibatch took: 0:00:01.146232\n",
      "DEBUG:Ghiaseddin:1 minibatch took: 0:00:01.148920\n",
      "DEBUG:Ghiaseddin:1 minibatch took: 0:00:01.156587\n",
      "DEBUG:Ghiaseddin:1 minibatch took: 0:00:01.161604\n",
      "DEBUG:Ghiaseddin:1 minibatch took: 0:00:01.147845\n",
      "DEBUG:Ghiaseddin:1 minibatch took: 0:00:01.177402\n",
      "DEBUG:Ghiaseddin:1 minibatch took: 0:00:01.190203\n",
      "DEBUG:Ghiaseddin:1 minibatch took: 0:00:01.183071\n",
      "DEBUG:Ghiaseddin:1 minibatch took: 0:00:01.170660\n",
      "DEBUG:Ghiaseddin:1 minibatch took: 0:00:01.168240\n",
      "DEBUG:Ghiaseddin:1 minibatch took: 0:00:01.161931\n",
      "DEBUG:Ghiaseddin:1 minibatch took: 0:00:01.206908\n",
      "DEBUG:Ghiaseddin:1 minibatch took: 0:00:01.172101\n",
      "DEBUG:Ghiaseddin:1 minibatch took: 0:00:01.169727\n",
      "DEBUG:Ghiaseddin:1 minibatch took: 0:00:01.154132\n",
      "DEBUG:Ghiaseddin:1 minibatch took: 0:00:01.146061\n",
      "DEBUG:Ghiaseddin:1 minibatch took: 0:00:01.175306\n",
      "DEBUG:Ghiaseddin:1 minibatch took: 0:00:01.153414\n",
      "DEBUG:Ghiaseddin:1 minibatch took: 0:00:01.157801\n",
      "DEBUG:Ghiaseddin:1 minibatch took: 0:00:01.160658\n",
      "DEBUG:Ghiaseddin:1 minibatch took: 0:00:01.173161\n",
      "DEBUG:Ghiaseddin:1 minibatch took: 0:00:01.165596\n",
      "DEBUG:Ghiaseddin:1 minibatch took: 0:00:01.165362\n",
      "DEBUG:Ghiaseddin:1 minibatch took: 0:00:01.177503\n",
      "DEBUG:Ghiaseddin:1 minibatch took: 0:00:01.165135\n",
      "DEBUG:Ghiaseddin:1 minibatch took: 0:00:01.159239\n",
      "DEBUG:Ghiaseddin:1 minibatch took: 0:00:01.139035\n",
      "DEBUG:Ghiaseddin:1 minibatch took: 0:00:01.168605\n",
      "DEBUG:Ghiaseddin:1 minibatch took: 0:00:01.133726\n",
      "DEBUG:Ghiaseddin:1 minibatch took: 0:00:01.128917\n",
      "DEBUG:Ghiaseddin:1 minibatch took: 0:00:01.155247\n",
      "DEBUG:Ghiaseddin:1 minibatch took: 0:00:01.154544\n",
      "DEBUG:Ghiaseddin:1 minibatch took: 0:00:01.158431\n",
      "DEBUG:Ghiaseddin:1 minibatch took: 0:00:01.157488\n",
      "DEBUG:Ghiaseddin:1 minibatch took: 0:00:01.182111\n",
      "DEBUG:Ghiaseddin:1 minibatch took: 0:00:01.188382\n",
      "DEBUG:Ghiaseddin:1 minibatch took: 0:00:01.200300\n",
      "DEBUG:Ghiaseddin:1 minibatch took: 0:00:01.153916\n",
      "DEBUG:Ghiaseddin:1 minibatch took: 0:00:01.181531\n",
      "DEBUG:Ghiaseddin:1 minibatch took: 0:00:01.169096\n",
      "DEBUG:Ghiaseddin:1 minibatch took: 0:00:01.169708\n",
      "DEBUG:Ghiaseddin:1 minibatch took: 0:00:01.188741\n",
      "DEBUG:Ghiaseddin:1 minibatch took: 0:00:01.153697\n",
      "DEBUG:Ghiaseddin:1 minibatch took: 0:00:01.168236\n",
      "DEBUG:Ghiaseddin:1 minibatch took: 0:00:01.154266\n",
      "DEBUG:Ghiaseddin:1 minibatch took: 0:00:01.179605\n",
      "DEBUG:Ghiaseddin:1 minibatch took: 0:00:01.193169\n",
      "DEBUG:Ghiaseddin:1 minibatch took: 0:00:01.179343\n",
      "DEBUG:Ghiaseddin:1 minibatch took: 0:00:01.150166\n",
      "DEBUG:Ghiaseddin:1 minibatch took: 0:00:01.139458\n",
      "DEBUG:Ghiaseddin:1 minibatch took: 0:00:01.141007\n",
      "DEBUG:Ghiaseddin:1 minibatch took: 0:00:01.140465\n",
      "DEBUG:Ghiaseddin:1 minibatch took: 0:00:01.132928\n",
      "DEBUG:Ghiaseddin:1 minibatch took: 0:00:01.165613\n",
      "DEBUG:Ghiaseddin:1 minibatch took: 0:00:01.143798\n",
      "DEBUG:Ghiaseddin:1 minibatch took: 0:00:01.141931\n",
      "DEBUG:Ghiaseddin:1 minibatch took: 0:00:01.153155\n",
      "DEBUG:Ghiaseddin:1 minibatch took: 0:00:01.151004\n",
      "INFO:Ghiaseddin:Training for 1 epoch took: 0:02:02.629192\n"
     ]
    }
   ],
   "source": [
    "losses = model.train_one_epoch()"
   ]
  },
  {
   "cell_type": "code",
   "execution_count": null,
   "metadata": {
    "collapsed": true
   },
   "outputs": [],
   "source": []
  },
  {
   "cell_type": "code",
   "execution_count": null,
   "metadata": {
    "collapsed": false
   },
   "outputs": [],
   "source": [
    "for i in range(2):\n",
    "    losses = model.train_one_epoch(add_step)"
   ]
  },
  {
   "cell_type": "code",
   "execution_count": null,
   "metadata": {
    "collapsed": true
   },
   "outputs": [],
   "source": []
  },
  {
   "cell_type": "code",
   "execution_count": 7,
   "metadata": {
    "collapsed": false
   },
   "outputs": [
    {
     "name": "stderr",
     "output_type": "stream",
     "text": [
      "INFO:Ghiaseddin:Evaluation took: 0:00:09.370428\n"
     ]
    },
    {
     "data": {
      "text/plain": [
       "0.9166666666666666"
      ]
     },
     "execution_count": 7,
     "metadata": {},
     "output_type": "execute_result"
    }
   ],
   "source": [
    "model.eval_accuracy()"
   ]
  },
  {
   "cell_type": "code",
   "execution_count": null,
   "metadata": {
    "collapsed": true
   },
   "outputs": [],
   "source": []
  }
 ],
 "metadata": {
  "kernelspec": {
   "display_name": "Python 2",
   "language": "python",
   "name": "python2"
  },
  "language_info": {
   "codemirror_mode": {
    "name": "ipython",
    "version": 2
   },
   "file_extension": ".py",
   "mimetype": "text/x-python",
   "name": "python",
   "nbconvert_exporter": "python",
   "pygments_lexer": "ipython2",
   "version": "2.7.6"
  }
 },
 "nbformat": 4,
 "nbformat_minor": 0
}
