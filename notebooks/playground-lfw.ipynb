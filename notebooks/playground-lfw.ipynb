{
 "cells": [
  {
   "cell_type": "code",
   "execution_count": 1,
   "metadata": {
    "collapsed": false
   },
   "outputs": [
    {
     "name": "stderr",
     "output_type": "stream",
     "text": [
      "Using gpu device 0: GeForce GTX TITAN Black (CNMeM is disabled, CuDNN 4007)\n"
     ]
    }
   ],
   "source": [
    "import sys\n",
    "import os\n",
    "sys.path.append('../')\n",
    "import ghiaseddin\n",
    "\n",
    "import numpy as np\n",
    "import lasagne\n",
    "\n",
    "%matplotlib inline\n",
    "\n",
    "import matplotlib\n",
    "import matplotlib.pylab as plt\n",
    "from datetime import datetime as dt"
   ]
  },
  {
   "cell_type": "code",
   "execution_count": 2,
   "metadata": {
    "collapsed": false
   },
   "outputs": [],
   "source": [
    "lfw = ghiaseddin.LFW10(ghiaseddin.settings.lfw10_root, attribute_index=0)\n",
    "googlenet = ghiaseddin.GoogLeNet(ghiaseddin.settings.googlenet_weights, augmentation=True)"
   ]
  },
  {
   "cell_type": "code",
   "execution_count": 3,
   "metadata": {
    "collapsed": false
   },
   "outputs": [],
   "source": [
    "model = ghiaseddin.Ghiaseddin(extractor=googlenet,\n",
    "                              dataset=lfw,\n",
    "                              weight_decay=1e-5,\n",
    "                              optimizer=lasagne.updates.rmsprop,\n",
    "                              ranker_learning_rate=1e-4,\n",
    "                              extractor_learning_rate=1e-5,\n",
    "                              ranker_nonlinearity=lasagne.nonlinearities.linear,\n",
    "                              train_batch_size=16)"
   ]
  },
  {
   "cell_type": "code",
   "execution_count": 4,
   "metadata": {
    "collapsed": false
   },
   "outputs": [
    {
     "name": "stdout",
     "output_type": "stream",
     "text": [
      "True\n",
      "True\n"
     ]
    },
    {
     "data": {
      "text/plain": [
       "([array(1.0350814118179714), array(0.851172597074783)], 0)"
      ]
     },
     "execution_count": 4,
     "metadata": {},
     "output_type": "execute_result"
    }
   ],
   "source": [
    "model.train_n_iter(2)"
   ]
  },
  {
   "cell_type": "code",
   "execution_count": 5,
   "metadata": {
    "collapsed": false
   },
   "outputs": [
    {
     "name": "stdout",
     "output_type": "stream",
     "text": [
      "True\n",
      "True\n",
      "True\n",
      "True\n",
      "True\n",
      "True\n",
      "True\n",
      "True\n",
      "True\n",
      "True\n",
      "True\n",
      "True\n",
      "True\n",
      "True\n",
      "True\n",
      "True\n",
      "True\n",
      "True\n",
      "True\n",
      "True\n",
      "True\n",
      "True\n",
      "True\n",
      "True\n",
      "True\n",
      "True\n",
      "True\n",
      "True\n",
      "True\n",
      "True\n",
      "True\n"
     ]
    },
    {
     "data": {
      "text/plain": [
       "[array(0.7325468319769848),\n",
       " array(1.019593984996785),\n",
       " array(1.1126128795771046),\n",
       " array(1.0958256202222936),\n",
       " array(1.0028080116850395),\n",
       " array(0.9886200281016182),\n",
       " array(0.8532626764272652),\n",
       " array(0.8400860533731684),\n",
       " array(1.0023008008461536),\n",
       " array(1.0455764012262234),\n",
       " array(1.3813393298601506),\n",
       " array(1.0774415190066404),\n",
       " array(0.9353021105274132),\n",
       " array(0.7232691131548504),\n",
       " array(1.1322146994526876),\n",
       " array(0.9541637134026233),\n",
       " array(1.047143305234115),\n",
       " array(1.1025281220884877),\n",
       " array(0.8561498440512211),\n",
       " array(0.7690679240002883),\n",
       " array(0.7872414092719466),\n",
       " array(0.9107018962897281),\n",
       " array(0.6058278821607245),\n",
       " array(1.0301872930333573),\n",
       " array(1.0568810882779798),\n",
       " array(0.8530373776481367),\n",
       " array(0.8143991139772441),\n",
       " array(0.9159599769798219),\n",
       " array(0.9352393738851924),\n",
       " array(0.9712321675539216),\n",
       " array(0.8479963898452151)]"
      ]
     },
     "execution_count": 5,
     "metadata": {},
     "output_type": "execute_result"
    }
   ],
   "source": [
    "model.train_one_epoch()"
   ]
  },
  {
   "cell_type": "code",
   "execution_count": 6,
   "metadata": {
    "collapsed": false
   },
   "outputs": [
    {
     "name": "stdout",
     "output_type": "stream",
     "text": [
      "False\n",
      "False\n",
      "False\n",
      "False\n",
      "False\n",
      "False\n",
      "False\n",
      "False\n",
      "False\n",
      "False\n",
      "False\n",
      "False\n",
      "False\n",
      "False\n",
      "False\n",
      "False\n",
      "False\n",
      "False\n",
      "False\n",
      "False\n",
      "False\n",
      "False\n",
      "False\n",
      "False\n",
      "False\n",
      "False\n",
      "False\n",
      "False\n",
      "False\n",
      "False\n",
      "False\n",
      "False\n"
     ]
    },
    {
     "data": {
      "text/plain": [
       "0.6094890510948905"
      ]
     },
     "execution_count": 6,
     "metadata": {},
     "output_type": "execute_result"
    }
   ],
   "source": [
    "model.eval_accuracy()"
   ]
  },
  {
   "cell_type": "code",
   "execution_count": null,
   "metadata": {
    "collapsed": true
   },
   "outputs": [],
   "source": []
  }
 ],
 "metadata": {
  "kernelspec": {
   "display_name": "Python 2",
   "language": "python",
   "name": "python2"
  },
  "language_info": {
   "codemirror_mode": {
    "name": "ipython",
    "version": 2
   },
   "file_extension": ".py",
   "mimetype": "text/x-python",
   "name": "python",
   "nbconvert_exporter": "python",
   "pygments_lexer": "ipython2",
   "version": "2.7.6"
  }
 },
 "nbformat": 4,
 "nbformat_minor": 0
}
