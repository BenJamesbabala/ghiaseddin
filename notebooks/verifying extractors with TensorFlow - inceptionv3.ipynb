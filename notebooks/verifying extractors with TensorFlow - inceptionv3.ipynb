{
 "cells": [
  {
   "cell_type": "code",
   "execution_count": null,
   "metadata": {
    "collapsed": false
   },
   "outputs": [],
   "source": [
    "import matplotlib.pylab as plt\n",
    "%matplotlib inline\n",
    "import lasagne\n",
    "import pickle\n",
    "# to verify this model, we need to compare the output with Tensorflow's output.\n",
    "# I have copied the source code for running the Inception V3 model using Tensorflow\n",
    "# from it's Github repository (although I have slightly modified it).\n",
    "from classify_image import run_inference_on_image"
   ]
  },
  {
   "cell_type": "code",
   "execution_count": null,
   "metadata": {
    "collapsed": false
   },
   "outputs": [],
   "source": [
    "import sys\n",
    "sys.path.append('../')\n",
    "import ghiaseddin\n",
    "\n",
    "import numpy as np"
   ]
  },
  {
   "cell_type": "markdown",
   "metadata": {},
   "source": [
    "here is an image for our processing usage"
   ]
  },
  {
   "cell_type": "code",
   "execution_count": null,
   "metadata": {
    "collapsed": true
   },
   "outputs": [],
   "source": [
    "image_addr = '/home/yasser/installs/caffe/examples/images/cat.jpg'"
   ]
  },
  {
   "cell_type": "markdown",
   "metadata": {},
   "source": [
    "creating the Inception V3 extractor of ghiaseddin"
   ]
  },
  {
   "cell_type": "code",
   "execution_count": null,
   "metadata": {
    "collapsed": false
   },
   "outputs": [],
   "source": [
    "extractor = ghiaseddin.InceptionV3(ghiaseddin.settings.inceptionv3_weights)\n",
    "ghiaseddin_feats = extractor.output_for_image(image_addr)\n",
    "\n",
    "print ghiaseddin_feats.shape\n",
    "plt.plot(ghiaseddin_feats)"
   ]
  },
  {
   "cell_type": "markdown",
   "metadata": {},
   "source": [
    "running the tensorflow's network"
   ]
  },
  {
   "cell_type": "code",
   "execution_count": null,
   "metadata": {
    "collapsed": false
   },
   "outputs": [],
   "source": [
    "# remember to set paths in the classify_image.py file\n",
    "tf_feats = run_inference_on_image(image_addr)\n",
    "print tf_feats.shape\n",
    "plt.plot(tf_feats)"
   ]
  },
  {
   "cell_type": "code",
   "execution_count": null,
   "metadata": {
    "collapsed": false
   },
   "outputs": [],
   "source": [
    "print np.allclose(ghiaseddin_feats, tf_feats)\n",
    "\n",
    "np.linalg.norm(ghiaseddin_feats - tf_feats)"
   ]
  },
  {
   "cell_type": "code",
   "execution_count": null,
   "metadata": {
    "collapsed": false
   },
   "outputs": [],
   "source": [
    "plt.plot(ghiaseddin_feats - tf_feats)"
   ]
  },
  {
   "cell_type": "markdown",
   "metadata": {
    "collapsed": true
   },
   "source": [
    "It seems that the difference is very small. I guess it is good."
   ]
  }
 ],
 "metadata": {
  "kernelspec": {
   "display_name": "Python 2",
   "language": "python",
   "name": "python2"
  },
  "language_info": {
   "codemirror_mode": {
    "name": "ipython",
    "version": 2
   },
   "file_extension": ".py",
   "mimetype": "text/x-python",
   "name": "python",
   "nbconvert_exporter": "python",
   "pygments_lexer": "ipython2",
   "version": "2.7.11"
  }
 },
 "nbformat": 4,
 "nbformat_minor": 0
}
